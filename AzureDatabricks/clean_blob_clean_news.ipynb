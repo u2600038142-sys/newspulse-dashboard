{
 "cells": [
  {
   "cell_type": "code",
   "execution_count": 0,
   "metadata": {
    "application/vnd.databricks.v1+cell": {
     "cellMetadata": {
      "byteLimit": 2048000,
      "rowLimit": 10000
     },
     "inputWidgets": {},
     "nuid": "a29c801a-99ac-40a0-a1d5-bf29e2e6e9cc",
     "showTitle": false,
     "tableResultSettingsMap": {},
     "title": ""
    }
   },
   "outputs": [],
   "source": [
    "# ===== Params (diisi ADF saat run) =====\n",
    "dbutils.widgets.text(\"p_date\",   \"2025-08-29\")\n",
    "dbutils.widgets.text(\"p_source\", \"reuters\")\n",
    "\n",
    "p_date   = dbutils.widgets.get(\"p_date\")\n",
    "p_source = dbutils.widgets.get(\"p_source\")\n",
    "\n",
    "\n",
    "# ===== Storage & SAS =====\n",
    "storage_acct = \"stnewspulsedev\"            # ganti punyamu\n",
    "container    = \"raw\"\n",
    "sas_token    = \"sv=2024-11-04&ss=bfqt&srt=sco&sp=rwdlacupiytfx&se=2025-09-30T14:36:51Z&st=2025-08-30T06:21:51Z&spr=https&sig=6EaBFeIGtbbRo95e8rZm4MNrlrKhPrz7k7pxjA%2BykpY%3D\"            # PASTE SAS token (mulai dari tanda ?)\n",
    "\n",
    "# Simpan SAS di Spark config (format kuncinya HARUS persis begini)\n",
    "spark.conf.set(f\"fs.azure.sas.{container}.{storage_acct}.blob.core.windows.net\", sas_token)\n",
    "\n",
    "target_dir = f\"wasbs://{container}@{storage_acct}.blob.core.windows.net/clean/ingest_date={p_date}/source={p_source}/\"\n",
    "\n",
    "# Hapus semua file/child dalam folder, folder tetap ada\n",
    "for f in dbutils.fs.ls(target_dir):\n",
    "    dbutils.fs.rm(f.path, recurse=True)\n",
    "\n",
    "print(\"Cleared contents of:\", target_dir)"
   ]
  }
 ],
 "metadata": {
  "application/vnd.databricks.v1+notebook": {
   "computePreferences": null,
   "dashboards": [],
   "environmentMetadata": {
    "base_environment": "",
    "environment_version": "3"
   },
   "inputWidgetPreferences": null,
   "language": "python",
   "notebookMetadata": {
    "pythonIndentUnit": 4
   },
   "notebookName": "clean_blob_clean_news",
   "widgets": {
    "p_date": {
     "currentValue": "2025-08-29",
     "nuid": "9746dd4f-cbf4-46f9-a6e5-3ce2d9d1456c",
     "typedWidgetInfo": {
      "autoCreated": false,
      "defaultValue": "2025-08-29",
      "label": null,
      "name": "p_date",
      "options": {
       "widgetDisplayType": "Text",
       "validationRegex": null
      },
      "parameterDataType": "String"
     },
     "widgetInfo": {
      "widgetType": "text",
      "defaultValue": "2025-08-29",
      "label": null,
      "name": "p_date",
      "options": {
       "widgetType": "text",
       "autoCreated": null,
       "validationRegex": null
      }
     }
    },
    "p_source": {
     "currentValue": "reuters",
     "nuid": "3998401f-7f39-4b00-b925-e504274a97ce",
     "typedWidgetInfo": {
      "autoCreated": false,
      "defaultValue": "reuters",
      "label": null,
      "name": "p_source",
      "options": {
       "widgetDisplayType": "Text",
       "validationRegex": null
      },
      "parameterDataType": "String"
     },
     "widgetInfo": {
      "widgetType": "text",
      "defaultValue": "reuters",
      "label": null,
      "name": "p_source",
      "options": {
       "widgetType": "text",
       "autoCreated": null,
       "validationRegex": null
      }
     }
    }
   }
  },
  "language_info": {
   "name": "python"
  }
 },
 "nbformat": 4,
 "nbformat_minor": 0
}
